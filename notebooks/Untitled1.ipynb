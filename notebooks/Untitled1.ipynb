{
 "cells": [
  {
   "cell_type": "code",
   "execution_count": 1,
   "id": "7d59f910",
   "metadata": {},
   "outputs": [
    {
     "name": "stderr",
     "output_type": "stream",
     "text": [
      "/Users/datle/opt/anaconda3/envs/tensorflow/lib/python3.8/site-packages/scipy/__init__.py:146: UserWarning: A NumPy version >=1.16.5 and <1.23.0 is required for this version of SciPy (detected version 1.23.4\n",
      "  warnings.warn(f\"A NumPy version >={np_minversion} and <{np_maxversion}\"\n"
     ]
    }
   ],
   "source": [
    "from transformers import BartTokenizer, BartForConditionalGeneration\n",
    "from torch.utils.data import DataLoader, Dataset, RandomSampler, SequentialSampler\n",
    "import torch\n",
    "import functools\n",
    "from transformers import AdamW, get_linear_schedule_with_warmup\n",
    "import math\n",
    "from time import time\n",
    "from datasets import load_dataset, Dataset"
   ]
  },
  {
   "cell_type": "code",
   "execution_count": 2,
   "id": "05038a8c",
   "metadata": {},
   "outputs": [
    {
     "name": "stderr",
     "output_type": "stream",
     "text": [
      "Found cached dataset json (/Users/datle/.cache/huggingface/datasets/json/default-0913b0ed92067c10/0.0.0/8bb11242116d547c741b2e8a1f18598ffdd40a1d4f2a2872c7a28b697434bc96)\n"
     ]
    },
    {
     "data": {
      "application/vnd.jupyter.widget-view+json": {
       "model_id": "01af77a5f7ef439d8a403eec5017c271",
       "version_major": 2,
       "version_minor": 0
      },
      "text/plain": [
       "  0%|          | 0/1 [00:00<?, ?it/s]"
      ]
     },
     "metadata": {},
     "output_type": "display_data"
    },
    {
     "name": "stderr",
     "output_type": "stream",
     "text": [
      "Found cached dataset json (/Users/datle/.cache/huggingface/datasets/json/default-f1b40a908fd17224/0.0.0/8bb11242116d547c741b2e8a1f18598ffdd40a1d4f2a2872c7a28b697434bc96)\n"
     ]
    },
    {
     "data": {
      "application/vnd.jupyter.widget-view+json": {
       "model_id": "c66999d4259b42e0b5b6b34bea1f9417",
       "version_major": 2,
       "version_minor": 0
      },
      "text/plain": [
       "  0%|          | 0/1 [00:00<?, ?it/s]"
      ]
     },
     "metadata": {},
     "output_type": "display_data"
    }
   ],
   "source": [
    "path_train = \"/Users/datle/Downloads/ELI5.jsonl\"\n",
    "path_val = \"/Users/datle/Downloads/ELI5_val.jsonl\"\n",
    "dataset_train = load_dataset('json', data_files = path_train)\n",
    "dataset_val = load_dataset('json', data_files = path_val)\n",
    "train = dataset_train['train'].select(range(1,30000))\n",
    "val = dataset_val['train']"
   ]
  },
  {
   "cell_type": "code",
   "execution_count": 3,
   "id": "14c6bdfa",
   "metadata": {},
   "outputs": [],
   "source": [
    "tokenizer = BartTokenizer.from_pretrained(\"facebook/bart-base\")"
   ]
  },
  {
   "cell_type": "code",
   "execution_count": 4,
   "id": "76155996",
   "metadata": {},
   "outputs": [],
   "source": [
    "def preproces(ex):\n",
    "    return tokenizer(ex['answers'],max_length=128, padding='max_length', truncation=True, return_tensors='pt')"
   ]
  },
  {
   "cell_type": "code",
   "execution_count": 15,
   "id": "61b72df1",
   "metadata": {},
   "outputs": [],
   "source": [
    "def replace_text(string):\n",
    "    return string.replace(\"\\'\",\"\").replace(\"\\n\",\"\").replace(\"URL_0\",\"\").lower().strip()\n",
    "def concat(ex, n):\n",
    "    question = replace_text(ex['question'])\n",
    "    context = ex['ctxs'][:n]\n",
    "    if type((context[0])) == list:\n",
    "        context = [k[0] for k in context]\n",
    "    context = replace_text(' '.join(context))\n",
    "    ex['ques_ctxs'] = f\"question: {question} context: {context}\"\n",
    "    return ex"
   ]
  },
  {
   "cell_type": "code",
   "execution_count": 16,
   "id": "08464f43",
   "metadata": {},
   "outputs": [
    {
     "data": {
      "application/vnd.jupyter.widget-view+json": {
       "model_id": "",
       "version_major": 2,
       "version_minor": 0
      },
      "text/plain": [
       "Map:   0%|          | 0/29999 [00:00<?, ? examples/s]"
      ]
     },
     "metadata": {},
     "output_type": "display_data"
    }
   ],
   "source": [
    "question_ds = train.map(lambda x: concat(x, n=2), remove_columns = ['question', 'ctxs'])"
   ]
  },
  {
   "cell_type": "code",
   "execution_count": 37,
   "id": "bd18daa2",
   "metadata": {},
   "outputs": [],
   "source": [
    "def tokenize(ex):\n",
    "    dct = tokenizer(ex['ques_ctxs'],max_length=128, \n",
    "                    padding='max_length', truncation=True, return_tensors='pt')\n",
    "    ex['input_id_q'], ex['attention_q'] = dct['input_ids'], dct['attention_mask']\n",
    "    \n",
    "    dct1 = (tokenizer(ex['answers'],max_length=128, \n",
    "                    padding='max_length', truncation=True, return_tensors='pt'))\n",
    "    ex['input_id_a'], ex['attention_a']= dct1['input_ids'], dct1['attention_mask']\n",
    "    \n",
    "    return ex"
   ]
  },
  {
   "cell_type": "code",
   "execution_count": 38,
   "id": "743aa0e5",
   "metadata": {},
   "outputs": [
    {
     "data": {
      "application/vnd.jupyter.widget-view+json": {
       "model_id": "",
       "version_major": 2,
       "version_minor": 0
      },
      "text/plain": [
       "Map:   0%|          | 0/29999 [00:00<?, ? examples/s]"
      ]
     },
     "metadata": {},
     "output_type": "display_data"
    }
   ],
   "source": [
    "tokenized_ds = question_ds.map(tokenize)"
   ]
  },
  {
   "cell_type": "code",
   "execution_count": 43,
   "id": "6a5e9abc",
   "metadata": {},
   "outputs": [
    {
     "data": {
      "text/plain": [
       "Dataset({\n",
       "    features: ['question_id', 'answers', 'ques_ctxs', 'input_id_q', 'attention_q', 'input_id_a', 'attention_a'],\n",
       "    num_rows: 29999\n",
       "})"
      ]
     },
     "execution_count": 43,
     "metadata": {},
     "output_type": "execute_result"
    }
   ],
   "source": [
    "tokenized_ds"
   ]
  },
  {
   "cell_type": "code",
   "execution_count": 69,
   "id": "3089da48",
   "metadata": {},
   "outputs": [],
   "source": [
    "class eli5dataset(Dataset):\n",
    "    def __init__(self, dataset):\n",
    "        self.dataset = dataset\n",
    "        self.qa_id_list = [\n",
    "            (i,j)\n",
    "            for i, q in enumerate(self.dataset['input_id_a'])\n",
    "            for j, a in enumerate(q)\n",
    "        ]\n",
    "    def __len__(self):\n",
    "        return len(self.qa_id_list)\n",
    "    def make_example(self, idx):\n",
    "        q_ids = []\n",
    "        q_mask = []\n",
    "        a_ids = []\n",
    "        a_mask = []\n",
    "        for i in idx:\n",
    "            i,j = self.qa_id_list[i]\n",
    "            \n",
    "        \n",
    "            q_ids.append(self.dataset['input_id_q'][i])\n",
    "            q_mask.append(self.dataset['attention_q'][i])\n",
    "            a_id = self.dataset['input_id_a'][i][j]\n",
    "            a_m = self.dataset['attention_a'][i][j]\n",
    "            a_ids.append(a_id)\n",
    "            a_mask.append(a_m)\n",
    "        \n",
    "        q_ids, q_mask = (\n",
    "        torch.squeeze(torch.LongTensor(q_ids)),\n",
    "        torch.squeeze(torch.LongTensor(q_mask))\n",
    "        )\n",
    "        \n",
    "        a_ids, a_mask = (\n",
    "        torch.squeeze(torch.LongTensor(a_ids)),\n",
    "        torch.squeeze(torch.LongTensor(a_mask))\n",
    "        )\n",
    "\n",
    "        labels = a_ids[:, 1:].contiguous().clone()\n",
    "        labels[a_mask[:, 1:].contiguous() == 0] = -100\n",
    "\n",
    "        model_inputs = {\n",
    "        'input_ids': q_ids,\n",
    "        'attention_mask': q_mask,\n",
    "        'decoder_input_ids': a_ids[:, :-1].contiguous(),\n",
    "        'labels': labels,\n",
    "    }\n",
    "        return model_inputs\n",
    "    def __getitem__(self, idx):\n",
    "        return self.make_example(idx)"
   ]
  },
  {
   "cell_type": "code",
   "execution_count": 70,
   "id": "77d74123",
   "metadata": {},
   "outputs": [],
   "source": [
    "def data_loader(dataset, args):\n",
    "    train_sampler = SequentialSampler(dataset)\n",
    "    data_loader = DataLoader(dataset, batch_size=args.batch_size, sampler=train_sampler)\n",
    "    return data_loader"
   ]
  },
  {
   "cell_type": "code",
   "execution_count": 71,
   "id": "88602d08",
   "metadata": {},
   "outputs": [],
   "source": [
    "class ArgumentsS2S():\n",
    "    def __init__(self):\n",
    "        self.batch_size = 2\n",
    "        self.max_length = 128\n",
    "\n",
    "s2s_args = ArgumentsS2S()"
   ]
  },
  {
   "cell_type": "code",
   "execution_count": 72,
   "id": "6c309db1",
   "metadata": {},
   "outputs": [],
   "source": [
    "import lightning as L\n",
    "class bart_model(L.LightningModule):\n",
    "    def __init__(self):\n",
    "        super().__init__()\n",
    "        self.model = BartForConditionalGeneration.from_pretrained(\"facebook/bart-base\")\n",
    "    def forward(self, batch_input):\n",
    "        output = self.model(**batch_input)\n",
    "        return output.loss, output.logits\n",
    "    def training_step(self, batch, batch_idx):\n",
    "        loss, output = self(batch)\n",
    "        self.log('train_loss',loss, prog_bar=True, logger=True)\n",
    "        return loss\n",
    "    def validation_step(self, batch, batch_idx):\n",
    "        loss, output = self(batch)\n",
    "        self.log('val_loss',loss, prog_bar=True, logger=True)\n",
    "        return loss\n",
    "    def test_step(self, batch, batch_idx):\n",
    "        loss, output = self(batch)\n",
    "        self.log('test_loss',loss, prog_bar=True, logger=True)\n",
    "        return loss\n",
    "    def configure_optimizers(self):\n",
    "        return torch.optim.AdamW(self.parameters(), lr=2e-4)"
   ]
  },
  {
   "cell_type": "code",
   "execution_count": 73,
   "id": "eadb9272",
   "metadata": {},
   "outputs": [
    {
     "data": {
      "text/plain": [
       "Dataset({\n",
       "    features: ['question_id', 'answers', 'ques_ctxs', 'input_id_q', 'attention_q', 'input_id_a', 'attention_a'],\n",
       "    num_rows: 29999\n",
       "})"
      ]
     },
     "execution_count": 73,
     "metadata": {},
     "output_type": "execute_result"
    }
   ],
   "source": [
    "tokenized_ds"
   ]
  },
  {
   "cell_type": "code",
   "execution_count": 74,
   "id": "25f93254",
   "metadata": {},
   "outputs": [],
   "source": [
    "train2 = eli5dataset(tokenized_ds)\n",
    "\n",
    "train_1 = data_loader(train2, s2s_args)\n"
   ]
  },
  {
   "cell_type": "code",
   "execution_count": 75,
   "id": "08aafd5f",
   "metadata": {},
   "outputs": [],
   "source": [
    "my_model = bart_model()"
   ]
  },
  {
   "cell_type": "code",
   "execution_count": 76,
   "id": "c3eabc35",
   "metadata": {},
   "outputs": [
    {
     "name": "stderr",
     "output_type": "stream",
     "text": [
      "GPU available: False, used: False\n",
      "TPU available: False, using: 0 TPU cores\n",
      "IPU available: False, using: 0 IPUs\n",
      "HPU available: False, using: 0 HPUs\n",
      "\n",
      "  | Name  | Type                         | Params\n",
      "-------------------------------------------------------\n",
      "0 | model | BartForConditionalGeneration | 139 M \n",
      "-------------------------------------------------------\n",
      "139 M     Trainable params\n",
      "0         Non-trainable params\n",
      "139 M     Total params\n",
      "557.682   Total estimated model params size (MB)\n"
     ]
    },
    {
     "data": {
      "application/vnd.jupyter.widget-view+json": {
       "model_id": "878d40e131e840be8138c88591b983a5",
       "version_major": 2,
       "version_minor": 0
      },
      "text/plain": [
       "Training: 0it [00:00, ?it/s]"
      ]
     },
     "metadata": {},
     "output_type": "display_data"
    },
    {
     "name": "stdout",
     "output_type": "stream",
     "text": [
      "[0, 1]\n",
      "[2, 3]\n",
      "[4, 5]\n",
      "[6, 7]\n",
      "[8, 9]\n"
     ]
    },
    {
     "name": "stderr",
     "output_type": "stream",
     "text": [
      "/Users/datle/opt/anaconda3/envs/tensorflow/lib/python3.8/site-packages/lightning/pytorch/trainer/call.py:52: UserWarning: Detected KeyboardInterrupt, attempting graceful shutdown...\n",
      "  rank_zero_warn(\"Detected KeyboardInterrupt, attempting graceful shutdown...\")\n"
     ]
    }
   ],
   "source": [
    "trainer = L.Trainer(max_epochs=3)\n",
    "trainer.fit(my_model, train_1)"
   ]
  },
  {
   "cell_type": "code",
   "execution_count": null,
   "id": "f480ed90",
   "metadata": {},
   "outputs": [],
   "source": []
  }
 ],
 "metadata": {
  "kernelspec": {
   "display_name": "Python 3.8 (tensorflow)\n\n",
   "language": "python",
   "name": "tensorflow"
  },
  "language_info": {
   "codemirror_mode": {
    "name": "ipython",
    "version": 3
   },
   "file_extension": ".py",
   "mimetype": "text/x-python",
   "name": "python",
   "nbconvert_exporter": "python",
   "pygments_lexer": "ipython3",
   "version": "3.8.13"
  }
 },
 "nbformat": 4,
 "nbformat_minor": 5
}
