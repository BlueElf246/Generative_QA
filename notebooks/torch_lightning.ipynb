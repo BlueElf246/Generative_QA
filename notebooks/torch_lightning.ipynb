{
 "cells": [
  {
   "cell_type": "code",
   "execution_count": 1,
   "id": "e2f122bd",
   "metadata": {},
   "outputs": [
    {
     "name": "stderr",
     "output_type": "stream",
     "text": [
      "/Users/datle/opt/anaconda3/envs/tensorflow/lib/python3.8/site-packages/scipy/__init__.py:146: UserWarning: A NumPy version >=1.16.5 and <1.23.0 is required for this version of SciPy (detected version 1.23.4\n",
      "  warnings.warn(f\"A NumPy version >={np_minversion} and <{np_maxversion}\"\n"
     ]
    }
   ],
   "source": [
    "from transformers import BartTokenizer, BartForConditionalGeneration\n",
    "from torch.utils.data import DataLoader, Dataset, RandomSampler, SequentialSampler\n",
    "import torch\n",
    "import functools\n",
    "from tqdm import tqdm\n",
    "from transformers import AdamW, get_linear_schedule_with_warmup\n",
    "import math\n",
    "from time import time\n",
    "from datasets import load_dataset"
   ]
  },
  {
   "cell_type": "code",
   "execution_count": 2,
   "id": "5f17613b",
   "metadata": {},
   "outputs": [
    {
     "name": "stderr",
     "output_type": "stream",
     "text": [
      "Found cached dataset json (/Users/datle/.cache/huggingface/datasets/json/default-0913b0ed92067c10/0.0.0/8bb11242116d547c741b2e8a1f18598ffdd40a1d4f2a2872c7a28b697434bc96)\n"
     ]
    },
    {
     "data": {
      "application/vnd.jupyter.widget-view+json": {
       "model_id": "11d41fe224a440aab9de2b152509db97",
       "version_major": 2,
       "version_minor": 0
      },
      "text/plain": [
       "  0%|          | 0/1 [00:00<?, ?it/s]"
      ]
     },
     "metadata": {},
     "output_type": "display_data"
    },
    {
     "name": "stderr",
     "output_type": "stream",
     "text": [
      "Found cached dataset json (/Users/datle/.cache/huggingface/datasets/json/default-f1b40a908fd17224/0.0.0/8bb11242116d547c741b2e8a1f18598ffdd40a1d4f2a2872c7a28b697434bc96)\n"
     ]
    },
    {
     "data": {
      "application/vnd.jupyter.widget-view+json": {
       "model_id": "34974091d3314c008a8877835dbe94f2",
       "version_major": 2,
       "version_minor": 0
      },
      "text/plain": [
       "  0%|          | 0/1 [00:00<?, ?it/s]"
      ]
     },
     "metadata": {},
     "output_type": "display_data"
    }
   ],
   "source": [
    "path_train = \"/Users/datle/Downloads/ELI5.jsonl\"\n",
    "path_val = \"/Users/datle/Downloads/ELI5_val.jsonl\"\n",
    "dataset_train = load_dataset('json', data_files = path_train)\n",
    "dataset_val = load_dataset('json', data_files = path_val)\n",
    "train = dataset_train['train'].select(range(0,1000))\n",
    "val = dataset_val['train']"
   ]
  },
  {
   "cell_type": "code",
   "execution_count": 3,
   "id": "86e8ea2a",
   "metadata": {},
   "outputs": [],
   "source": [
    "tokenizer = BartTokenizer.from_pretrained(\"facebook/bart-base\")\n",
    "model = BartForConditionalGeneration.from_pretrained(\"facebook/bart-base\")"
   ]
  },
  {
   "cell_type": "code",
   "execution_count": 28,
   "id": "a82e5aca",
   "metadata": {},
   "outputs": [],
   "source": [
    "def replacetext(string):\n",
    "    return string.replace(\"\\\\\",\"\").replace(\"\\n\",\"\").replace(\"URL_0\",\"\")\n",
    "class eli5dataset(Dataset):\n",
    "    def __init__(self, data, num_docs):\n",
    "        self.data = data\n",
    "        self.qa_id_list = [\n",
    "            (i,j)\n",
    "            for i, qa in enumerate(self.data)\n",
    "            for j, a in enumerate(qa['answers'])\n",
    "        ]\n",
    "        self.num_docs = num_docs\n",
    "    def __len__(self):\n",
    "        return len(self.qa_id_list)\n",
    "    def make_example(self, idx):\n",
    "        i,j = self.qa_id_list[idx]\n",
    "        question = self.data['question'][i]\n",
    "        question = replacetext(question)\n",
    "\n",
    "        context = self.data['ctxs'][i][:self.num_docs]\n",
    "        context = [k[0] for k in context]\n",
    "        context = ' '.join(context)\n",
    "        context = replacetext(context)\n",
    "\n",
    "        answer = self.data['answers'][i][j]\n",
    "\n",
    "        inputs = 'question: {} context: {}'.format(question.lower(), context.lower().strip())\n",
    "\n",
    "        outputs = answer\n",
    "\n",
    "        return (inputs, outputs)\n",
    "    def __getitem__(self, idx):\n",
    "        return self.make_example(idx)"
   ]
  },
  {
   "cell_type": "code",
   "execution_count": 29,
   "id": "fd256851",
   "metadata": {},
   "outputs": [],
   "source": [
    "def make_qa_s2s_batch(qa_list, tokenizer, max_len=64, max_a_len=360):\n",
    "    q_ls = (q for q, a in qa_list)\n",
    "    a_ls = (a for q, a in qa_list)\n",
    "\n",
    "    q_toks = tokenizer.batch_encode_plus(q_ls, max_length=max_len, padding='max_length', truncation=True)\n",
    "    q_ids, q_mask = (\n",
    "        torch.LongTensor(q_toks['input_ids']),\n",
    "        torch.LongTensor(q_toks['attention_mask'])\n",
    "    )\n",
    "    a_toks = tokenizer.batch_encode_plus(a_ls, max_length=min(max_len, max_a_len), padding='max_length', truncation=True)\n",
    "    a_ids, a_mask = (\n",
    "        torch.LongTensor(a_toks['input_ids']),\n",
    "        torch.LongTensor(a_toks['attention_mask'])\n",
    "    )\n",
    "    labels = a_ids[:, 1:].contiguous().clone()\n",
    "    labels[a_mask[:, 1:].contiguous() == 0] = -100\n",
    "\n",
    "    model_inputs = {\n",
    "        'input_ids': q_ids,\n",
    "        'attention_mask': q_mask,\n",
    "        'decoder_input_ids': a_ids[:, :-1].contiguous(),\n",
    "        'labels': labels,\n",
    "    }\n",
    "    return model_inputs"
   ]
  },
  {
   "cell_type": "code",
   "execution_count": 30,
   "id": "4af43d6a",
   "metadata": {},
   "outputs": [],
   "source": [
    "def data_loader(dataset, args):\n",
    "    train_sampler = SequentialSampler(dataset)\n",
    "    model_collate_fn = functools.partial(make_qa_s2s_batch, tokenizer=tokenizer, max_len=512)\n",
    "    data_loader = DataLoader(dataset, batch_size=args.batch_size, sampler=train_sampler, collate_fn=model_collate_fn)\n",
    "    return data_loader"
   ]
  },
  {
   "cell_type": "code",
   "execution_count": 31,
   "id": "40c7c867",
   "metadata": {},
   "outputs": [],
   "source": [
    "class ArgumentsS2S():\n",
    "    def __init__(self):\n",
    "        self.batch_size = 3\n",
    "        self.backward_freq = 16\n",
    "        self.max_length = 512\n",
    "        self.print_freq = 100\n",
    "        self.model_save_name = \"seq2seq_models/eli5_bart_model\"\n",
    "        self.learning_rate = 2e-4\n",
    "        self.num_epochs = 3\n",
    "\n",
    "s2s_args = ArgumentsS2S()"
   ]
  },
  {
   "cell_type": "code",
   "execution_count": 32,
   "id": "efb96d0f",
   "metadata": {},
   "outputs": [],
   "source": [
    "class bart_model(L.LightningModule):\n",
    "    def __init__(self):\n",
    "        super().__init__()\n",
    "        self.model = BartForConditionalGeneration.from_pretrained(\"facebook/bart-base\")\n",
    "    def forward(self, batch_input):\n",
    "        output = model(**batch_input)\n",
    "        return output.loss, output.logits\n",
    "    def training_step(self, batch, batch_idx):\n",
    "        loss, output = self(batch)\n",
    "        self.log('train_loss',loss, prog_bar=True, logger=True)\n",
    "        return loss\n",
    "    def validation_step(self, batch, batch_idx):\n",
    "        loss, output = self(batch)\n",
    "        self.log('val_loss',loss, prog_bar=True, logger=True)\n",
    "        return loss\n",
    "    def test_step(self, batch, batch_idx):\n",
    "        loss, output = self(batch)\n",
    "        self.log('test_loss',loss, prog_bar=True, logger=True)\n",
    "        return loss\n",
    "    def configure_optimizers(self):\n",
    "        return torch.optim.AdamW(self.parameters(), lr=0.0001)"
   ]
  },
  {
   "cell_type": "code",
   "execution_count": 33,
   "id": "4a39c789",
   "metadata": {},
   "outputs": [],
   "source": [
    "train1 = eli5dataset(train, num_docs =2)\n",
    "val1 = eli5dataset(val, num_docs =2)"
   ]
  },
  {
   "cell_type": "code",
   "execution_count": 34,
   "id": "4d5c2ee5",
   "metadata": {},
   "outputs": [],
   "source": [
    "train_1 = data_loader(train1, s2s_args)\n",
    "val_1 = data_loader(val1, s2s_args)"
   ]
  },
  {
   "cell_type": "code",
   "execution_count": 35,
   "id": "972c195d",
   "metadata": {},
   "outputs": [],
   "source": [
    "import lightning as L"
   ]
  },
  {
   "cell_type": "code",
   "execution_count": 36,
   "id": "b92c55a6",
   "metadata": {},
   "outputs": [],
   "source": [
    "my_model = bart_model()"
   ]
  },
  {
   "cell_type": "code",
   "execution_count": 37,
   "id": "24d46416",
   "metadata": {},
   "outputs": [
    {
     "name": "stderr",
     "output_type": "stream",
     "text": [
      "GPU available: False, used: False\n",
      "TPU available: False, using: 0 TPU cores\n",
      "IPU available: False, using: 0 IPUs\n",
      "HPU available: False, using: 0 HPUs\n",
      "\n",
      "  | Name  | Type                         | Params\n",
      "-------------------------------------------------------\n",
      "0 | model | BartForConditionalGeneration | 139 M \n",
      "-------------------------------------------------------\n",
      "139 M     Trainable params\n",
      "0         Non-trainable params\n",
      "139 M     Total params\n",
      "557.682   Total estimated model params size (MB)\n"
     ]
    },
    {
     "data": {
      "application/vnd.jupyter.widget-view+json": {
       "model_id": "",
       "version_major": 2,
       "version_minor": 0
      },
      "text/plain": [
       "Sanity Checking: 0it [00:00, ?it/s]"
      ]
     },
     "metadata": {},
     "output_type": "display_data"
    },
    {
     "data": {
      "application/vnd.jupyter.widget-view+json": {
       "model_id": "319cd6aaeb2d41268399a18481d10bd9",
       "version_major": 2,
       "version_minor": 0
      },
      "text/plain": [
       "Training: 0it [00:00, ?it/s]"
      ]
     },
     "metadata": {},
     "output_type": "display_data"
    }
   ],
   "source": [
    "trainer = L.Trainer()\n",
    "trainer.fit(my_model, train_1, val_1)"
   ]
  },
  {
   "cell_type": "code",
   "execution_count": null,
   "id": "8a69b933",
   "metadata": {},
   "outputs": [],
   "source": []
  }
 ],
 "metadata": {
  "kernelspec": {
   "display_name": "Python 3.8 (tensorflow)\n\n",
   "language": "python",
   "name": "tensorflow"
  },
  "language_info": {
   "codemirror_mode": {
    "name": "ipython",
    "version": 3
   },
   "file_extension": ".py",
   "mimetype": "text/x-python",
   "name": "python",
   "nbconvert_exporter": "python",
   "pygments_lexer": "ipython3",
   "version": "3.8.13"
  }
 },
 "nbformat": 4,
 "nbformat_minor": 5
}
