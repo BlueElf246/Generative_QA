{
 "cells": [
  {
   "cell_type": "code",
   "execution_count": 8,
   "id": "20412e4a",
   "metadata": {},
   "outputs": [],
   "source": [
    "from transformers import BartTokenizer, BartForConditionalGeneration\n",
    "from torch.utils.data import DataLoader, Dataset, RandomSampler, SequentialSampler\n",
    "import torch\n",
    "import functools\n",
    "from tqdm import tqdm\n",
    "from transformers import AdamW, get_linear_schedule_with_warmup\n",
    "import math\n",
    "from time import time\n",
    "from datasets import load_dataset"
   ]
  },
  {
   "cell_type": "code",
   "execution_count": 9,
   "id": "af4bae4d",
   "metadata": {},
   "outputs": [],
   "source": [
    "path_train = \"/Users/datle/Downloads/ELI5.jsonl\"\n",
    "path_val = \"/Users/datle/Downloads/ELI5_val.jsonl\""
   ]
  },
  {
   "cell_type": "code",
   "execution_count": 10,
   "id": "20de0212",
   "metadata": {},
   "outputs": [
    {
     "name": "stderr",
     "output_type": "stream",
     "text": [
      "Found cached dataset json (/Users/datle/.cache/huggingface/datasets/json/default-0913b0ed92067c10/0.0.0/8bb11242116d547c741b2e8a1f18598ffdd40a1d4f2a2872c7a28b697434bc96)\n"
     ]
    },
    {
     "data": {
      "application/vnd.jupyter.widget-view+json": {
       "model_id": "d5c66638bc484f858578ec2d5b019067",
       "version_major": 2,
       "version_minor": 0
      },
      "text/plain": [
       "  0%|          | 0/1 [00:00<?, ?it/s]"
      ]
     },
     "metadata": {},
     "output_type": "display_data"
    },
    {
     "name": "stderr",
     "output_type": "stream",
     "text": [
      "Found cached dataset json (/Users/datle/.cache/huggingface/datasets/json/default-f1b40a908fd17224/0.0.0/8bb11242116d547c741b2e8a1f18598ffdd40a1d4f2a2872c7a28b697434bc96)\n"
     ]
    },
    {
     "data": {
      "application/vnd.jupyter.widget-view+json": {
       "model_id": "d81267db67be4795a80f4a2ba17fd062",
       "version_major": 2,
       "version_minor": 0
      },
      "text/plain": [
       "  0%|          | 0/1 [00:00<?, ?it/s]"
      ]
     },
     "metadata": {},
     "output_type": "display_data"
    }
   ],
   "source": [
    "dataset_train = load_dataset('json', data_files = path_train)\n",
    "dataset_val = load_dataset('json', data_files = path_val)"
   ]
  },
  {
   "cell_type": "code",
   "execution_count": 11,
   "id": "33183d95",
   "metadata": {},
   "outputs": [],
   "source": [
    "train = dataset_train['train'].select(range(0,1000))\n",
    "val = dataset_val['train']"
   ]
  },
  {
   "cell_type": "code",
   "execution_count": 12,
   "id": "e8610b47",
   "metadata": {},
   "outputs": [],
   "source": [
    "# create model and tokenizer\n",
    "# Load tokenizer and model\n",
    "tokenizer = BartTokenizer.from_pretrained(\"facebook/bart-base\")\n",
    "model = BartForConditionalGeneration.from_pretrained(\"facebook/bart-base\")"
   ]
  },
  {
   "cell_type": "code",
   "execution_count": 13,
   "id": "c14bc34b",
   "metadata": {},
   "outputs": [],
   "source": [
    "def replacetext(string):\n",
    "    return string.replace(\"\\\\\",\"\").replace(\"\\n\",\"\")\n",
    "class eli5dataset(Dataset):\n",
    "    def __init__(self, data, num_docs):\n",
    "        self.data = data\n",
    "        self.qa_id_list = [\n",
    "            (i,j)\n",
    "            for i, qa in enumerate(self.data)\n",
    "            for j, a in enumerate(qa['answers'])\n",
    "        ]\n",
    "        self.num_docs = num_docs\n",
    "    def __len__(self):\n",
    "        return len(self.qa_id_list)\n",
    "    def make_example(self, idx):\n",
    "        i,j = self.qa_id_list[idx]\n",
    "        question = self.data['question'][i]\n",
    "        question = replacetext(question)\n",
    "\n",
    "        context = self.data['ctxs'][i][:self.num_docs]\n",
    "        context = [k[0] for k in context]\n",
    "        context = ' '.join(context)\n",
    "        context = replacetext(context)\n",
    "\n",
    "        answer = self.data['answers'][i][j]\n",
    "\n",
    "        inputs = 'question: {} context: {}'.format(question.lower(), context.lower().strip())\n",
    "\n",
    "        outputs = answer\n",
    "\n",
    "        return (inputs, outputs)\n",
    "    def __getitem__(self, idx):\n",
    "        return self.make_example(idx)"
   ]
  },
  {
   "cell_type": "code",
   "execution_count": 14,
   "id": "a748da91",
   "metadata": {},
   "outputs": [],
   "source": [
    "def make_qa_s2s_batch(qa_list, tokenizer, max_len=64, max_a_len=360):\n",
    "    q_ls = (q for q, a in qa_list)\n",
    "    a_ls = (a for q, a in qa_list)\n",
    "\n",
    "    q_toks = tokenizer.batch_encode_plus(q_ls, max_length=max_len, pad_to_max_length=True)\n",
    "    q_ids, q_mask = (\n",
    "        torch.LongTensor(q_toks['input_ids']),\n",
    "        torch.LongTensor(q_toks['attention_mask'])\n",
    "    )\n",
    "    a_toks = tokenizer.batch_encode_plus(a_ls, max_length=min(max_len, max_a_len), pad_to_max_length=True)\n",
    "    a_ids, a_mask = (\n",
    "        torch.LongTensor(a_toks['input_ids']),\n",
    "        torch.LongTensor(a_toks['attention_mask'])\n",
    "    )\n",
    "    labels = a_ids[:, 1:].contiguous().clone()\n",
    "    labels[a_mask[:, 1:].contiguous() == 0] = -100\n",
    "\n",
    "    model_inputs = {\n",
    "        'input_ids': q_ids,\n",
    "        'attention_mask': q_mask,\n",
    "        'decoder_input_ids': a_ids[:, :-1].contiguous(),\n",
    "        'labels': labels,\n",
    "    }\n",
    "    return model_inputs"
   ]
  },
  {
   "cell_type": "code",
   "execution_count": 15,
   "id": "627bcc01",
   "metadata": {},
   "outputs": [],
   "source": [
    "def train_qa_s2s_epoch(model, dataset, tokenizer, optimizer, scheduler, args, e=0, curriculum=False):\n",
    "    model.train()\n",
    "    # make iterator\n",
    "    if curriculum:\n",
    "        train_sampler = SequentialSampler(dataset)\n",
    "    else:\n",
    "        train_sampler = RandomSampler(dataset)\n",
    "    model_collate_fn = functools.partial(\n",
    "        make_qa_s2s_batch, tokenizer=tokenizer, max_len=args.max_length\n",
    "    )\n",
    "    data_loader = DataLoader(dataset, batch_size=args.batch_size, sampler=train_sampler, collate_fn=model_collate_fn)\n",
    "    epoch_iterator = tqdm(data_loader, desc=\"Iteration\", disable=True)\n",
    "    # accumulate loss since last print\n",
    "    loc_steps = 0\n",
    "    loc_loss = 0.0\n",
    "    st_time = time()\n",
    "    for step, batch_inputs in enumerate(epoch_iterator):\n",
    "        pre_loss = model(**batch_inputs)[0]\n",
    "        loss = pre_loss\n",
    "        loss.backward()\n",
    "        # optimizer\n",
    "        if step % args.backward_freq == 0:\n",
    "            optimizer.step()\n",
    "            scheduler.step()\n",
    "            model.zero_grad()\n",
    "        # some printing within the epoch\n",
    "        loc_loss += loss.item()\n",
    "        loc_steps += 1\n",
    "        if step % args.print_freq == 0 or step == 1:\n",
    "            print(\n",
    "                \"{:2d} {:5d} of {:5d} \\t L: {:.3f} \\t -- {:.3f}\".format(\n",
    "                    e, step, len(dataset) // args.batch_size, loc_loss / loc_steps, time() - st_time,\n",
    "                )\n",
    "            )\n",
    "            loc_loss = 0\n",
    "            loc_steps = 0"
   ]
  },
  {
   "cell_type": "code",
   "execution_count": 16,
   "id": "c58df8dd",
   "metadata": {},
   "outputs": [],
   "source": [
    "def eval_qa_s2s_epoch(model, dataset, tokenizer, args):\n",
    "    model.eval()\n",
    "    # make iterator\n",
    "    train_sampler = SequentialSampler(dataset)\n",
    "    model_collate_fn = functools.partial(\n",
    "        make_qa_s2s_batch, tokenizer=tokenizer, max_len=args.max_length\n",
    "    )\n",
    "    data_loader = DataLoader(dataset, batch_size=args.batch_size, sampler=train_sampler, collate_fn=model_collate_fn)\n",
    "    epoch_iterator = tqdm(data_loader, desc=\"Iteration\", disable=True)\n",
    "    # accumulate loss since last print\n",
    "    loc_steps = 0\n",
    "    loc_loss = 0.0\n",
    "    st_time = time()\n",
    "    with torch.no_grad():\n",
    "        for step, batch_inputs in enumerate(epoch_iterator):\n",
    "            pre_loss = model(**batch_inputs)[0]\n",
    "            loss = pre_loss\n",
    "            loc_loss += loss.item()\n",
    "            loc_steps += 1\n",
    "            if step % args.print_freq == 0:\n",
    "                print(\n",
    "                    \"{:5d} of {:5d} \\t L: {:.3f} \\t -- {:.3f}\".format(\n",
    "                        step, len(dataset) // args.batch_size, loc_loss / loc_steps, time() - st_time,\n",
    "                    )\n",
    "                )\n",
    "    print(\"Total \\t L: {:.3f} \\t -- {:.3f}\".format(loc_loss / loc_steps, time() - st_time,))"
   ]
  },
  {
   "cell_type": "code",
   "execution_count": 17,
   "id": "d2a713f4",
   "metadata": {},
   "outputs": [],
   "source": [
    "def train_qa_s2s(qa_s2s_model, qa_s2s_tokenizer, s2s_train_dset, s2s_valid_dset, s2s_args):\n",
    "    s2s_optimizer = torch.optim.AdamW(qa_s2s_model.parameters(), lr=s2s_args.learning_rate, eps=1e-8)\n",
    "    s2s_scheduler = get_linear_schedule_with_warmup(\n",
    "        s2s_optimizer,\n",
    "        num_warmup_steps=400,\n",
    "        num_training_steps=(s2s_args.num_epochs + 1) * math.ceil(len(s2s_train_dset) / s2s_args.batch_size),\n",
    "    )\n",
    "    for e in range(s2s_args.num_epochs):\n",
    "        train_qa_s2s_epoch(\n",
    "            qa_s2s_model,\n",
    "            s2s_train_dset,\n",
    "            qa_s2s_tokenizer,\n",
    "            s2s_optimizer,\n",
    "            s2s_scheduler,\n",
    "            s2s_args,\n",
    "            e,\n",
    "            curriculum=(e == 0),\n",
    "        )\n",
    "        m_save_dict = {\n",
    "            \"model\": qa_s2s_model.state_dict(),\n",
    "            \"optimizer\": s2s_optimizer.state_dict(),\n",
    "            \"scheduler\": s2s_scheduler.state_dict(),\n",
    "        }\n",
    "        print(\"Saving model {}\".format(s2s_args.model_save_name))\n",
    "        eval_qa_s2s_epoch(qa_s2s_model, s2s_valid_dset, qa_s2s_tokenizer, s2s_args)\n",
    "        torch.save(m_save_dict, \"{}_{}.pth\".format(s2s_args.model_save_name, e))"
   ]
  },
  {
   "cell_type": "code",
   "execution_count": 18,
   "id": "56efa53d",
   "metadata": {},
   "outputs": [],
   "source": [
    "class ArgumentsS2S():\n",
    "    def __init__(self):\n",
    "        self.batch_size = 3\n",
    "        self.backward_freq = 16\n",
    "        self.max_length = 512\n",
    "        self.print_freq = 100\n",
    "        self.model_save_name = \"seq2seq_models/eli5_bart_model\"\n",
    "        self.learning_rate = 2e-4\n",
    "        self.num_epochs = 3\n",
    "\n",
    "s2s_args = ArgumentsS2S()"
   ]
  },
  {
   "cell_type": "code",
   "execution_count": 19,
   "id": "c47aa2f5",
   "metadata": {},
   "outputs": [],
   "source": [
    "train1 = eli5dataset(train, num_docs =3)\n",
    "val1 = eli5dataset(val, num_docs =3)"
   ]
  },
  {
   "cell_type": "code",
   "execution_count": null,
   "id": "982ea61b",
   "metadata": {},
   "outputs": [
    {
     "name": "stderr",
     "output_type": "stream",
     "text": [
      "Truncation was not explicitly activated but `max_length` is provided a specific value, please use `truncation=True` to explicitly truncate examples to max length. Defaulting to 'longest_first' truncation strategy. If you encode pairs of sequences (GLUE-style) with the tokenizer you can select this strategy more precisely by providing a specific strategy to `truncation`.\n"
     ]
    }
   ],
   "source": [
    "train_qa_s2s(model, tokenizer, train1, val1, s2s_args)"
   ]
  },
  {
   "cell_type": "code",
   "execution_count": null,
   "id": "8d382ec2",
   "metadata": {},
   "outputs": [],
   "source": []
  }
 ],
 "metadata": {
  "kernelspec": {
   "display_name": "Python 3.8 (tensorflow)\n\n",
   "language": "python",
   "name": "tensorflow"
  },
  "language_info": {
   "codemirror_mode": {
    "name": "ipython",
    "version": 3
   },
   "file_extension": ".py",
   "mimetype": "text/x-python",
   "name": "python",
   "nbconvert_exporter": "python",
   "pygments_lexer": "ipython3",
   "version": "3.8.13"
  }
 },
 "nbformat": 4,
 "nbformat_minor": 5
}
